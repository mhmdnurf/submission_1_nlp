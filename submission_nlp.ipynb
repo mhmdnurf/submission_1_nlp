{
  "cells": [
    {
      "cell_type": "code",
      "execution_count": 35,
      "metadata": {
        "id": "idvFOyUg0Iiw"
      },
      "outputs": [],
      "source": [
        "import pandas as pd\n",
        "import tensorflow as tf\n",
        "from sklearn.model_selection import train_test_split\n",
        "from keras.preprocessing.text import Tokenizer\n",
        "from keras.preprocessing.sequence import pad_sequences\n",
        "from sklearn.utils import shuffle\n",
        "import matplotlib.pyplot as plt\n",
        "import re"
      ]
    },
    {
      "cell_type": "code",
      "execution_count": 36,
      "metadata": {
        "id": "vCgWmxJI0a5V"
      },
      "outputs": [],
      "source": [
        "fake_news_df = pd.read_csv('fake.csv', nrows=750)\n",
        "fake_news_df['status'] = 'palsu'\n",
        "\n",
        "real_news_df = pd.read_csv('true.csv', nrows=650)\n",
        "real_news_df['status'] = 'asli'\n",
        "\n",
        "df = pd.concat([fake_news_df, real_news_df], ignore_index=True)\n",
        "df = shuffle(df, random_state=22).reset_index(drop=True)"
      ]
    },
    {
      "cell_type": "code",
      "execution_count": 37,
      "metadata": {
        "colab": {
          "base_uri": "https://localhost:8080/",
          "height": 293
        },
        "id": "7Jz-3s-N2Cax",
        "outputId": "3c011972-337f-4630-ccdd-241fafb3f707"
      },
      "outputs": [
        {
          "data": {
            "text/html": [
              "<div>\n",
              "<style scoped>\n",
              "    .dataframe tbody tr th:only-of-type {\n",
              "        vertical-align: middle;\n",
              "    }\n",
              "\n",
              "    .dataframe tbody tr th {\n",
              "        vertical-align: top;\n",
              "    }\n",
              "\n",
              "    .dataframe thead th {\n",
              "        text-align: right;\n",
              "    }\n",
              "</style>\n",
              "<table border=\"1\" class=\"dataframe\">\n",
              "  <thead>\n",
              "    <tr style=\"text-align: right;\">\n",
              "      <th></th>\n",
              "      <th>title</th>\n",
              "      <th>text</th>\n",
              "      <th>subject</th>\n",
              "      <th>date</th>\n",
              "      <th>status</th>\n",
              "    </tr>\n",
              "  </thead>\n",
              "  <tbody>\n",
              "    <tr>\n",
              "      <th>1395</th>\n",
              "      <td>CNN’s Don Lemon: Trump Shouldn’t Get Apology ...</td>\n",
              "      <td>If Donald Trump really wants an apology from E...</td>\n",
              "      <td>News</td>\n",
              "      <td>September 18, 2017</td>\n",
              "      <td>palsu</td>\n",
              "    </tr>\n",
              "    <tr>\n",
              "      <th>1396</th>\n",
              "      <td>Republican Moore embraces Trump message on eve...</td>\n",
              "      <td>BIRMINGHAM, Ala. (Reuters) - Dogged by accusat...</td>\n",
              "      <td>politicsNews</td>\n",
              "      <td>December 11, 2017</td>\n",
              "      <td>asli</td>\n",
              "    </tr>\n",
              "    <tr>\n",
              "      <th>1397</th>\n",
              "      <td>Democrats plan to use tax bill to attack Repub...</td>\n",
              "      <td>WASHINGTON (Reuters) - The tax bill is Preside...</td>\n",
              "      <td>politicsNews</td>\n",
              "      <td>December 20, 2017</td>\n",
              "      <td>asli</td>\n",
              "    </tr>\n",
              "    <tr>\n",
              "      <th>1398</th>\n",
              "      <td>Someone Tried To Cash In On Antifa With These...</td>\n",
              "      <td>History has shown that one of the most cost-ef...</td>\n",
              "      <td>News</td>\n",
              "      <td>November 6, 2017</td>\n",
              "      <td>palsu</td>\n",
              "    </tr>\n",
              "    <tr>\n",
              "      <th>1399</th>\n",
              "      <td>Exclusive: Senator Cruz wants to cap renewable...</td>\n",
              "      <td>NEW YORK (Reuters) - U.S. Senator Ted Cruz wan...</td>\n",
              "      <td>politicsNews</td>\n",
              "      <td>December 15, 2017</td>\n",
              "      <td>asli</td>\n",
              "    </tr>\n",
              "  </tbody>\n",
              "</table>\n",
              "</div>"
            ],
            "text/plain": [
              "                                                  title  \\\n",
              "1395   CNN’s Don Lemon: Trump Shouldn’t Get Apology ...   \n",
              "1396  Republican Moore embraces Trump message on eve...   \n",
              "1397  Democrats plan to use tax bill to attack Repub...   \n",
              "1398   Someone Tried To Cash In On Antifa With These...   \n",
              "1399  Exclusive: Senator Cruz wants to cap renewable...   \n",
              "\n",
              "                                                   text       subject  \\\n",
              "1395  If Donald Trump really wants an apology from E...          News   \n",
              "1396  BIRMINGHAM, Ala. (Reuters) - Dogged by accusat...  politicsNews   \n",
              "1397  WASHINGTON (Reuters) - The tax bill is Preside...  politicsNews   \n",
              "1398  History has shown that one of the most cost-ef...          News   \n",
              "1399  NEW YORK (Reuters) - U.S. Senator Ted Cruz wan...  politicsNews   \n",
              "\n",
              "                    date status  \n",
              "1395  September 18, 2017  palsu  \n",
              "1396  December 11, 2017    asli  \n",
              "1397  December 20, 2017    asli  \n",
              "1398    November 6, 2017  palsu  \n",
              "1399  December 15, 2017    asli  "
            ]
          },
          "execution_count": 37,
          "metadata": {},
          "output_type": "execute_result"
        }
      ],
      "source": [
        "df.tail()"
      ]
    },
    {
      "cell_type": "code",
      "execution_count": 38,
      "metadata": {
        "id": "Pe57s1Sq2W1F"
      },
      "outputs": [],
      "source": [
        "df = df.drop(columns=['title', 'subject', 'date'])\n",
        "df.dropna(inplace=True)"
      ]
    },
    {
      "cell_type": "code",
      "execution_count": 39,
      "metadata": {
        "colab": {
          "base_uri": "https://localhost:8080/",
          "height": 206
        },
        "id": "LAhh3NhK3Jsc",
        "outputId": "751614f2-440a-4448-857f-c95a69c41b3a"
      },
      "outputs": [
        {
          "data": {
            "text/html": [
              "<div>\n",
              "<style scoped>\n",
              "    .dataframe tbody tr th:only-of-type {\n",
              "        vertical-align: middle;\n",
              "    }\n",
              "\n",
              "    .dataframe tbody tr th {\n",
              "        vertical-align: top;\n",
              "    }\n",
              "\n",
              "    .dataframe thead th {\n",
              "        text-align: right;\n",
              "    }\n",
              "</style>\n",
              "<table border=\"1\" class=\"dataframe\">\n",
              "  <thead>\n",
              "    <tr style=\"text-align: right;\">\n",
              "      <th></th>\n",
              "      <th>text</th>\n",
              "      <th>status</th>\n",
              "    </tr>\n",
              "  </thead>\n",
              "  <tbody>\n",
              "    <tr>\n",
              "      <th>0</th>\n",
              "      <td>washington reuters  the top republican in the ...</td>\n",
              "      <td>asli</td>\n",
              "    </tr>\n",
              "    <tr>\n",
              "      <th>1</th>\n",
              "      <td>donald trump s current deputy national securit...</td>\n",
              "      <td>palsu</td>\n",
              "    </tr>\n",
              "    <tr>\n",
              "      <th>2</th>\n",
              "      <td>washington reuters  us democratic senator al f...</td>\n",
              "      <td>asli</td>\n",
              "    </tr>\n",
              "    <tr>\n",
              "      <th>3</th>\n",
              "      <td>donald trump s administration finds new ways t...</td>\n",
              "      <td>palsu</td>\n",
              "    </tr>\n",
              "    <tr>\n",
              "      <th>4</th>\n",
              "      <td>washington reuters  the us senate will vote on...</td>\n",
              "      <td>asli</td>\n",
              "    </tr>\n",
              "  </tbody>\n",
              "</table>\n",
              "</div>"
            ],
            "text/plain": [
              "                                                text status\n",
              "0  washington reuters  the top republican in the ...   asli\n",
              "1  donald trump s current deputy national securit...  palsu\n",
              "2  washington reuters  us democratic senator al f...   asli\n",
              "3  donald trump s administration finds new ways t...  palsu\n",
              "4  washington reuters  the us senate will vote on...   asli"
            ]
          },
          "execution_count": 39,
          "metadata": {},
          "output_type": "execute_result"
        }
      ],
      "source": [
        "def remove_punctuation(text):\n",
        "    return re.sub(r'[^\\w\\s]', '', text)\n",
        "df['text'] = df['text'].apply(lambda x: remove_punctuation(x.lower()))\n",
        "df.head()"
      ]
    },
    {
      "cell_type": "code",
      "execution_count": 40,
      "metadata": {
        "colab": {
          "base_uri": "https://localhost:8080/",
          "height": 424
        },
        "id": "KcKwjAKH3MsI",
        "outputId": "02d985ac-63a3-41df-e0a1-000c14ce8690"
      },
      "outputs": [
        {
          "data": {
            "text/html": [
              "<div>\n",
              "<style scoped>\n",
              "    .dataframe tbody tr th:only-of-type {\n",
              "        vertical-align: middle;\n",
              "    }\n",
              "\n",
              "    .dataframe tbody tr th {\n",
              "        vertical-align: top;\n",
              "    }\n",
              "\n",
              "    .dataframe thead th {\n",
              "        text-align: right;\n",
              "    }\n",
              "</style>\n",
              "<table border=\"1\" class=\"dataframe\">\n",
              "  <thead>\n",
              "    <tr style=\"text-align: right;\">\n",
              "      <th></th>\n",
              "      <th>text</th>\n",
              "      <th>asli</th>\n",
              "      <th>palsu</th>\n",
              "    </tr>\n",
              "  </thead>\n",
              "  <tbody>\n",
              "    <tr>\n",
              "      <th>0</th>\n",
              "      <td>washington reuters  the top republican in the ...</td>\n",
              "      <td>1</td>\n",
              "      <td>0</td>\n",
              "    </tr>\n",
              "    <tr>\n",
              "      <th>1</th>\n",
              "      <td>donald trump s current deputy national securit...</td>\n",
              "      <td>0</td>\n",
              "      <td>1</td>\n",
              "    </tr>\n",
              "    <tr>\n",
              "      <th>2</th>\n",
              "      <td>washington reuters  us democratic senator al f...</td>\n",
              "      <td>1</td>\n",
              "      <td>0</td>\n",
              "    </tr>\n",
              "    <tr>\n",
              "      <th>3</th>\n",
              "      <td>donald trump s administration finds new ways t...</td>\n",
              "      <td>0</td>\n",
              "      <td>1</td>\n",
              "    </tr>\n",
              "    <tr>\n",
              "      <th>4</th>\n",
              "      <td>washington reuters  the us senate will vote on...</td>\n",
              "      <td>1</td>\n",
              "      <td>0</td>\n",
              "    </tr>\n",
              "    <tr>\n",
              "      <th>...</th>\n",
              "      <td>...</td>\n",
              "      <td>...</td>\n",
              "      <td>...</td>\n",
              "    </tr>\n",
              "    <tr>\n",
              "      <th>1395</th>\n",
              "      <td>if donald trump really wants an apology from e...</td>\n",
              "      <td>0</td>\n",
              "      <td>1</td>\n",
              "    </tr>\n",
              "    <tr>\n",
              "      <th>1396</th>\n",
              "      <td>birmingham ala reuters  dogged by accusations ...</td>\n",
              "      <td>1</td>\n",
              "      <td>0</td>\n",
              "    </tr>\n",
              "    <tr>\n",
              "      <th>1397</th>\n",
              "      <td>washington reuters  the tax bill is president ...</td>\n",
              "      <td>1</td>\n",
              "      <td>0</td>\n",
              "    </tr>\n",
              "    <tr>\n",
              "      <th>1398</th>\n",
              "      <td>history has shown that one of the most costeff...</td>\n",
              "      <td>0</td>\n",
              "      <td>1</td>\n",
              "    </tr>\n",
              "    <tr>\n",
              "      <th>1399</th>\n",
              "      <td>new york reuters  us senator ted cruz wants to...</td>\n",
              "      <td>1</td>\n",
              "      <td>0</td>\n",
              "    </tr>\n",
              "  </tbody>\n",
              "</table>\n",
              "<p>1400 rows × 3 columns</p>\n",
              "</div>"
            ],
            "text/plain": [
              "                                                   text  asli  palsu\n",
              "0     washington reuters  the top republican in the ...     1      0\n",
              "1     donald trump s current deputy national securit...     0      1\n",
              "2     washington reuters  us democratic senator al f...     1      0\n",
              "3     donald trump s administration finds new ways t...     0      1\n",
              "4     washington reuters  the us senate will vote on...     1      0\n",
              "...                                                 ...   ...    ...\n",
              "1395  if donald trump really wants an apology from e...     0      1\n",
              "1396  birmingham ala reuters  dogged by accusations ...     1      0\n",
              "1397  washington reuters  the tax bill is president ...     1      0\n",
              "1398  history has shown that one of the most costeff...     0      1\n",
              "1399  new york reuters  us senator ted cruz wants to...     1      0\n",
              "\n",
              "[1400 rows x 3 columns]"
            ]
          },
          "execution_count": 40,
          "metadata": {},
          "output_type": "execute_result"
        }
      ],
      "source": [
        "status = pd.get_dummies(df['status']).astype('int64')\n",
        "new_df = pd.concat([df, status], axis=1)\n",
        "new_df = new_df.drop(columns='status')\n",
        "new_df"
      ]
    },
    {
      "cell_type": "code",
      "execution_count": 41,
      "metadata": {
        "id": "4KlP98Yx4K-a"
      },
      "outputs": [],
      "source": [
        "text_news = new_df['text'].astype('str')\n",
        "status_news = new_df[['asli', 'palsu']].values"
      ]
    },
    {
      "cell_type": "code",
      "execution_count": 42,
      "metadata": {
        "id": "7dvYcEH94amE"
      },
      "outputs": [],
      "source": [
        "text_train, text_test, status_train, status_test = train_test_split(text_news, status_news, test_size=0.2)"
      ]
    },
    {
      "cell_type": "code",
      "execution_count": 43,
      "metadata": {
        "id": "uEOFMykv4tXH"
      },
      "outputs": [],
      "source": [
        "tokenizer = Tokenizer(num_words=5000, oov_token='<oov>')\n",
        "tokenizer.fit_on_texts(text_train)\n",
        "tokenizer.fit_on_texts(text_test)\n",
        "\n",
        "sekuens_train = tokenizer.texts_to_sequences(text_train)\n",
        "sekuens_test = tokenizer.texts_to_sequences(text_test)\n",
        "\n",
        "padded_train = pad_sequences(sekuens_train)\n",
        "padded_test = pad_sequences(sekuens_test)"
      ]
    },
    {
      "cell_type": "code",
      "execution_count": 44,
      "metadata": {
        "id": "mM-kh6Dt4-wz"
      },
      "outputs": [],
      "source": [
        "model = tf.keras.Sequential([\n",
        "    tf.keras.layers.Embedding(input_dim=5000, output_dim=16),\n",
        "    tf.keras.layers.LSTM(64),\n",
        "    tf.keras.layers.Dropout(0.5),\n",
        "    tf.keras.layers.Dense(128, activation='relu'),\n",
        "    tf.keras.layers.Dropout(0.5),\n",
        "    tf.keras.layers.Dense(2, activation='softmax')\n",
        "])\n",
        "model.compile(loss='categorical_crossentropy', optimizer='adam', metrics=['accuracy'])\n"
      ]
    },
    {
      "cell_type": "code",
      "execution_count": 45,
      "metadata": {
        "colab": {
          "base_uri": "https://localhost:8080/"
        },
        "id": "Rp_K3j4F5HLf",
        "outputId": "2c4dbb88-6f0d-4737-9940-3eecb0c89217"
      },
      "outputs": [
        {
          "name": "stdout",
          "output_type": "stream",
          "text": [
            "Model: \"sequential_2\"\n",
            "_________________________________________________________________\n",
            " Layer (type)                Output Shape              Param #   \n",
            "=================================================================\n",
            " embedding_2 (Embedding)     (None, None, 16)          80000     \n",
            "                                                                 \n",
            " lstm_2 (LSTM)               (None, 64)                20736     \n",
            "                                                                 \n",
            " dropout_4 (Dropout)         (None, 64)                0         \n",
            "                                                                 \n",
            " dense_4 (Dense)             (None, 128)               8320      \n",
            "                                                                 \n",
            " dropout_5 (Dropout)         (None, 128)               0         \n",
            "                                                                 \n",
            " dense_5 (Dense)             (None, 2)                 258       \n",
            "                                                                 \n",
            "=================================================================\n",
            "Total params: 109314 (427.01 KB)\n",
            "Trainable params: 109314 (427.01 KB)\n",
            "Non-trainable params: 0 (0.00 Byte)\n",
            "_________________________________________________________________\n"
          ]
        }
      ],
      "source": [
        "model.summary()"
      ]
    },
    {
      "cell_type": "code",
      "execution_count": 46,
      "metadata": {
        "id": "6P-rvayq5dsP"
      },
      "outputs": [],
      "source": [
        "class modelCallbacks(tf.keras.callbacks.Callback):\n",
        "  def on_epoch_end(self, epoch, logs={}):\n",
        "    if(logs.get('val_accuracy') > 0.98):\n",
        "      print(\"Expected accuracy have been achieved\")\n",
        "      self.model.stop_training = True\n",
        "cb = modelCallbacks()"
      ]
    },
    {
      "cell_type": "code",
      "execution_count": 47,
      "metadata": {
        "colab": {
          "base_uri": "https://localhost:8080/"
        },
        "id": "_tV51Psm8yiR",
        "outputId": "050e6ee2-0f92-4add-9e65-436e60d7b960"
      },
      "outputs": [
        {
          "name": "stdout",
          "output_type": "stream",
          "text": [
            "Epoch 1/10\n",
            "9/9 [==============================] - 5s 348ms/step - loss: 0.6901 - accuracy: 0.5589 - val_loss: 0.6814 - val_accuracy: 0.5714\n",
            "Epoch 2/10\n",
            "9/9 [==============================] - 6s 735ms/step - loss: 0.6740 - accuracy: 0.6652 - val_loss: 0.6464 - val_accuracy: 0.9750\n",
            "Epoch 3/10\n",
            "9/9 [==============================] - 3s 305ms/step - loss: 0.5737 - accuracy: 0.9420 - val_loss: 0.3724 - val_accuracy: 0.9107\n",
            "Epoch 4/10\n",
            "9/9 [==============================] - 6s 659ms/step - loss: 0.2724 - accuracy: 0.9170 - val_loss: 0.2064 - val_accuracy: 0.9036\n",
            "Epoch 5/10\n",
            "9/9 [==============================] - ETA: 0s - loss: 0.1210 - accuracy: 0.9759Expected accuracy have been achieved\n",
            "9/9 [==============================] - 4s 441ms/step - loss: 0.1210 - accuracy: 0.9759 - val_loss: 0.0862 - val_accuracy: 0.9929\n"
          ]
        }
      ],
      "source": [
        "model_history = model.fit(\n",
        "    padded_train,\n",
        "    status_train,\n",
        "    epochs=10,\n",
        "    validation_data=(padded_test, status_test),\n",
        "    verbose=1,\n",
        "    batch_size=128,\n",
        "    callbacks=[cb]\n",
        "  )"
      ]
    },
    {
      "cell_type": "code",
      "execution_count": 48,
      "metadata": {
        "colab": {
          "base_uri": "https://localhost:8080/",
          "height": 472
        },
        "id": "J3kEh6sJ9yJC",
        "outputId": "af3e622f-550c-4072-cb30-66c2c0662d55"
      },
      "outputs": [
        {
          "data": {
            "image/png": "[encoded data removed]",
            "text/plain": [
              "<Figure size 640x480 with 1 Axes>"
            ]
          },
          "metadata": {},
          "output_type": "display_data"
        }
      ],
      "source": [
        "plt.plot(model_history.history['loss'])\n",
        "plt.plot(model_history.history['val_loss'])\n",
        "plt.title('Model loss')\n",
        "plt.ylabel('Loss')\n",
        "plt.xlabel('Epoch')\n",
        "plt.legend(['Train', 'Validation'], loc='upper right')\n",
        "plt.show()"
      ]
    },
    {
      "cell_type": "code",
      "execution_count": 49,
      "metadata": {
        "colab": {
          "base_uri": "https://localhost:8080/",
          "height": 472
        },
        "id": "2GU_hW3T9y9R",
        "outputId": "2734b76b-9aae-4e98-cf7d-46b6d25900a3"
      },
      "outputs": [
        {
          "data": {
            "image/png": "[encoded data removed]",
            "text/plain": [
              "<Figure size 640x480 with 1 Axes>"
            ]
          },
          "metadata": {},
          "output_type": "display_data"
        }
      ],
      "source": [
        "plt.plot(model_history.history['accuracy'])\n",
        "plt.plot(model_history.history['val_accuracy'])\n",
        "plt.title('Model accuracy')\n",
        "plt.ylabel('Accuracy')\n",
        "plt.xlabel('Epoch')\n",
        "plt.legend(['Train', 'Validation'], loc='lower right')\n",
        "plt.show()"
      ]
    },
    {
      "cell_type": "code",
      "execution_count": 50,
      "metadata": {
        "colab": {
          "base_uri": "https://localhost:8080/"
        },
        "id": "03GkoZXw-Dvr",
        "outputId": "62f4640c-746c-4bb0-ab0a-f82f92931484"
      },
      "outputs": [
        {
          "name": "stdout",
          "output_type": "stream",
          "text": [
            "9/9 [==============================] - 1s 38ms/step\n",
            "\n",
            "Test Accuracy: 99.29%\n",
            "\n",
            "Classification Report:\n",
            "              precision    recall  f1-score   support\n",
            "\n",
            "           0       0.99      0.99      0.99       120\n",
            "           1       0.99      0.99      0.99       160\n",
            "\n",
            "    accuracy                           0.99       280\n",
            "   macro avg       0.99      0.99      0.99       280\n",
            "weighted avg       0.99      0.99      0.99       280\n",
            "\n",
            "\n",
            "Confusion Matrix:\n",
            "[[119   1]\n",
            " [  1 159]]\n"
          ]
        }
      ],
      "source": [
        "# Menguji Akurasi\n",
        "sekuens_test = tokenizer.texts_to_sequences(text_test)\n",
        "padded_test = pad_sequences(sekuens_test)\n",
        "predictions = model.predict(padded_test)\n",
        "\n",
        "predicted_labels = [1 if pred[1] > pred[0] else 0 for pred in predictions]\n",
        "evaluation = model.evaluate(padded_test, status_test, verbose=0)\n",
        "print(f\"\\nTest Accuracy: {evaluation[1]*100:.2f}%\")\n",
        "\n",
        "from sklearn.metrics import classification_report, confusion_matrix\n",
        "\n",
        "print(\"\\nClassification Report:\")\n",
        "print(classification_report(status_test.argmax(axis=1), predicted_labels))\n",
        "print(\"\\nConfusion Matrix:\")\n",
        "print(confusion_matrix(status_test.argmax(axis=1), predicted_labels))\n"
      ]
    },
    {
      "cell_type": "code",
      "execution_count": 51,
      "metadata": {
        "colab": {
          "base_uri": "https://localhost:8080/"
        },
        "id": "a7KnQzrO_rMV",
        "outputId": "f5ad2173-d5f5-42ea-81b7-e8817bcfb067"
      },
      "outputs": [
        {
          "name": "stdout",
          "output_type": "stream",
          "text": [
            "1/1 [==============================] - 0s 320ms/step\n",
            "Kalimat tersebut diprediksi sebagai PALSU.\n"
          ]
        }
      ],
      "source": [
        "# UJI DATA PALSU\n",
        "kalimat_uji = [\"House Intelligence Committee Chairman Devin Nunes is going to have a bad day. He s been under the assumption, like many of us, that the Christopher Steele-dossier was what prompted the Russia investigation so he s been lashing out at the Department of Justice and the FBI in order to protect Trump. As it happens, the dossier is not what started the investigation, according to documents obtained by the New York Times.Former Trump campaign adviser George Papadopoulos was drunk in a wine bar when he revealed knowledge of Russian opposition research on Hillary Clinton.On top of that, Papadopoulos wasn t just a covfefe boy for Trump, as his administration has alleged. He had a much larger role, but none so damning as being a drunken fool in a wine bar. Coffee boys  don t help to arrange a New York meeting between Trump and President Abdel Fattah el-Sisi of Egypt two months before the election. It was known before that the former aide set up meetings with world leaders for Trump, but team Trump ran with him being merely a coffee boy.In May 2016, Papadopoulos revealed to Australian diplomat Alexander Downer that Russian officials were shopping around possible dirt on then-Democratic presidential nominee Hillary Clinton. Exactly how much Mr. Papadopoulos said that night at the Kensington Wine Rooms with the Australian, Alexander Downer, is unclear,  the report states.  But two months later, when leaked Democratic emails began appearing online, Australian officials passed the information about Mr. Papadopoulos to their American counterparts, according to four current and former American and foreign officials with direct knowledge of the Australians  role. Papadopoulos pleaded guilty to lying to the F.B.I. and is now a cooperating witness with Special Counsel Robert Mueller s team.This isn t a presidency. It s a badly scripted reality TV show.Photo by Win McNamee/Getty Images.\"]\n",
        "\n",
        "sekuens_uji = tokenizer.texts_to_sequences(kalimat_uji)\n",
        "padded_uji = pad_sequences(sekuens_uji)\n",
        "\n",
        "prediksi_uji = model.predict(padded_uji)\n",
        "\n",
        "label_uji = 1 if prediksi_uji[0, 1] > prediksi_uji[0, 0] else 0\n",
        "\n",
        "# Menampilkan hasil prediksi\n",
        "if label_uji == 1:\n",
        "    print(\"Kalimat tersebut diprediksi sebagai PALSU.\")\n",
        "else:\n",
        "    print(\"Kalimat tersebut diprediksi sebagai ASLI.\")"
      ]
    },
    {
      "cell_type": "code",
      "execution_count": 52,
      "metadata": {
        "colab": {
          "base_uri": "https://localhost:8080/"
        },
        "id": "gV4e3IiIBm9_",
        "outputId": "0aa854c5-1ec9-4c4b-a09c-3fb07fcb23bd"
      },
      "outputs": [
        {
          "name": "stdout",
          "output_type": "stream",
          "text": [
            "1/1 [==============================] - 0s 24ms/step\n",
            "Kalimat tersebut diprediksi sebagai ASLI.\n"
          ]
        }
      ],
      "source": [
        "# UJI DATA ASLI\n",
        "kalimat_uji = [\"White House, Congress prepare for talks on spending, immigration.\"]\n",
        "\n",
        "sekuens_uji = tokenizer.texts_to_sequences(kalimat_uji)\n",
        "padded_uji = pad_sequences(sekuens_uji)\n",
        "prediksi_uji = model.predict(padded_uji)\n",
        "label_uji = 1 if prediksi_uji[0, 1] > prediksi_uji[0, 0] else 0\n",
        "\n",
        "# Menampilkan hasil prediksi\n",
        "if label_uji == 1:\n",
        "    print(\"Kalimat tersebut diprediksi sebagai PALSU.\")\n",
        "else:\n",
        "    print(\"Kalimat tersebut diprediksi sebagai ASLI.\")"
      ]
    },
    {
      "cell_type": "code",
      "execution_count": null,
      "metadata": {
        "id": "VS2tXny-CvEj"
      },
      "outputs": [],
      "source": []
    }
  ],
  "metadata": {
    "colab": {
      "provenance": []
    },
    "kernelspec": {
      "display_name": "Python 3",
      "name": "python3"
    },
    "language_info": {
      "codemirror_mode": {
        "name": "ipython",
        "version": 3
      },
      "file_extension": ".py",
      "mimetype": "text/x-python",
      "name": "python",
      "nbconvert_exporter": "python",
      "pygments_lexer": "ipython3",
      "version": "3.10.0"
    }
  },
  "nbformat": 4,
  "nbformat_minor": 0
}
